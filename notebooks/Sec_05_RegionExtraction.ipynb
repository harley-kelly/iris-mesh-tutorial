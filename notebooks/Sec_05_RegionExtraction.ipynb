{
 "cells": [
  {
   "cell_type": "markdown",
   "id": "f3ece436-9fe8-4e3f-9dd1-990c82c3efdd",
   "metadata": {},
   "source": [
    "# Section 5: Extracting a region from mesh-based data\n",
    "\n",
    "This section demonstrates regional extraction from a global mesh. This process is considerably more involved than with \"structured\" data like UM. For instance, UM data has data and coordinates with X and Y dimensions, corresponding to cell indices in the model arrays, and longitudes and latitudes of cells on the globe. Therefore, we can slice out a rectangular range of X and Y indices, e.g. my_datacube[..., 10:40, 4:77], and the result is some contiguous region of the globe within a defined range of latitude and longitude. The unstructured mesh does not visit locations on the globe in any particular, simple regular pattern. So crucially, a slice of data from the (now 1-D) arrays is not a contiguous geographical region as a contiguous region of the data is generally not contained in a contiguous range of data indices. See the [diagram](./LFRic_mesh.svg) from Section 02 showing numbering of nodes and faces around an LFRic cubesphere corner.\n",
    "\n",
    "GeoVista supports the needed geographical calculations to extract mesh data within a required region. Here's an example of how to extract the mesh falling within a defined lat-lon region. As with the plotting example, there are no Iris utility functions for this, so user code is currently required to mediate between the Iris and Geovista/PyVista worlds.\n",
    "\n",
    "## Load unstructured data and create Polydata object\n"
   ]
  },
  {
   "cell_type": "markdown",
   "id": "3a175eb0-8956-4754-ac89-f554250afd7f",
   "metadata": {},
   "source": [
    "Firts load some global LFRic data with the utility function `lfric_rh_datacube` from `testdata_fetching`"
   ]
  },
  {
   "cell_type": "code",
   "execution_count": 2,
   "id": "0d189559-f75e-4872-a4bb-6509393c4394",
   "metadata": {
    "tags": []
   },
   "outputs": [
    {
     "data": {
      "text/html": [
       "\n",
       "<style>\n",
       "  a.iris {\n",
       "      text-decoration: none !important;\n",
       "  }\n",
       "  table.iris {\n",
       "      white-space: pre;\n",
       "      border: 1px solid;\n",
       "      border-color: #9c9c9c;\n",
       "      font-family: monaco, monospace;\n",
       "  }\n",
       "  th.iris {\n",
       "      background: #303f3f;\n",
       "      color: #e0e0e0;\n",
       "      border-left: 1px solid;\n",
       "      border-color: #9c9c9c;\n",
       "      font-size: 1.05em;\n",
       "      min-width: 50px;\n",
       "      max-width: 125px;\n",
       "  }\n",
       "  tr.iris :first-child {\n",
       "      border-right: 1px solid #9c9c9c !important;\n",
       "  }\n",
       "  td.iris-title {\n",
       "      background: #d5dcdf;\n",
       "      border-top: 1px solid #9c9c9c;\n",
       "      font-weight: bold;\n",
       "  }\n",
       "  .iris-word-cell {\n",
       "      text-align: left !important;\n",
       "      white-space: pre;\n",
       "  }\n",
       "  .iris-subheading-cell {\n",
       "      padding-left: 2em !important;\n",
       "  }\n",
       "  .iris-inclusion-cell {\n",
       "      padding-right: 1em !important;\n",
       "  }\n",
       "  .iris-panel-body {\n",
       "      padding-top: 0px;\n",
       "  }\n",
       "  .iris-panel-title {\n",
       "      padding-left: 3em;\n",
       "  }\n",
       "  .iris-panel-title {\n",
       "      margin-top: 7px;\n",
       "  }\n",
       "</style>\n",
       "<table class=\"iris\" id=\"140514485427552\">\n",
       "    <tr class=\"iris\">\n",
       "<th class=\"iris iris-word-cell\">Relative Humidity At Screen Level (1)</th>\n",
       "<th class=\"iris iris-word-cell\">--</th>\n",
       "</tr>\n",
       "    <tr class=\"iris\">\n",
       "<td class=\"iris-word-cell iris-subheading-cell\">Shape</td>\n",
       "<td class=\"iris iris-inclusion-cell\">13824</td>\n",
       "</tr>\n",
       "    <tr class=\"iris\">\n",
       "    <td class=\"iris-title iris-word-cell\">Mesh coordinates</td>\n",
       "    <td class=\"iris-title\"></td>\n",
       "</tr>\n",
       "<tr class=\"iris\">\n",
       "    <td class=\"iris-word-cell iris-subheading-cell\">\tlatitude</td>\n",
       "    <td class=\"iris-inclusion-cell\">x</td>\n",
       "</tr>\n",
       "<tr class=\"iris\">\n",
       "    <td class=\"iris-word-cell iris-subheading-cell\">\tlongitude</td>\n",
       "    <td class=\"iris-inclusion-cell\">x</td>\n",
       "</tr>\n",
       "<tr class=\"iris\">\n",
       "    <td class=\"iris-title iris-word-cell\">Mesh</td>\n",
       "    <td class=\"iris-title\"></td>\n",
       "</tr>\n",
       "<tr class=\"iris\">\n",
       "    <td class=\"iris-word-cell iris-subheading-cell\">\tname</td>\n",
       "    <td class=\"iris-word-cell\" colspan=\"1\">Topology data of 2D unstructured mesh</td>\n",
       "</tr>\n",
       "<tr class=\"iris\">\n",
       "    <td class=\"iris-word-cell iris-subheading-cell\">\tlocation</td>\n",
       "    <td class=\"iris-word-cell\" colspan=\"1\">face</td>\n",
       "</tr>\n",
       "<tr class=\"iris\">\n",
       "    <td class=\"iris-title iris-word-cell\">Scalar coordinates</td>\n",
       "    <td class=\"iris-title\"></td>\n",
       "</tr>\n",
       "<tr class=\"iris\">\n",
       "    <td class=\"iris-word-cell iris-subheading-cell\">\tforecast_period</td>\n",
       "    <td class=\"iris-word-cell\" colspan=\"1\">21600 seconds</td>\n",
       "</tr>\n",
       "<tr class=\"iris\">\n",
       "    <td class=\"iris-word-cell iris-subheading-cell\">\tforecast_reference_time</td>\n",
       "    <td class=\"iris-word-cell\" colspan=\"1\">2021-03-24 00:00:00</td>\n",
       "</tr>\n",
       "<tr class=\"iris\">\n",
       "    <td class=\"iris-word-cell iris-subheading-cell\">\ttime</td>\n",
       "    <td class=\"iris-word-cell\" colspan=\"1\">2021-03-24 06:00:00</td>\n",
       "</tr>\n",
       "<tr class=\"iris\">\n",
       "    <td class=\"iris-title iris-word-cell\">Cell methods</td>\n",
       "    <td class=\"iris-title\"></td>\n",
       "</tr>\n",
       "<tr class=\"iris\">\n",
       "    <td class=\"iris-word-cell iris-subheading-cell\">\t0</td>\n",
       "    <td class=\"iris-word-cell\" colspan=\"1\">time: point</td>\n",
       "</tr>\n",
       "<tr class=\"iris\">\n",
       "    <td class=\"iris-title iris-word-cell\">Attributes</td>\n",
       "    <td class=\"iris-title\"></td>\n",
       "</tr>\n",
       "<tr class=\"iris\">\n",
       "    <td class=\"iris-word-cell iris-subheading-cell\">\tConventions</td>\n",
       "    <td class=\"iris-word-cell\" colspan=\"1\">&#x27;CF-1.7&#x27;</td>\n",
       "</tr>\n",
       "<tr class=\"iris\">\n",
       "    <td class=\"iris-word-cell iris-subheading-cell\">\tdescription</td>\n",
       "    <td class=\"iris-word-cell\" colspan=\"1\">&#x27;Created by xios&#x27;</td>\n",
       "</tr>\n",
       "<tr class=\"iris\">\n",
       "    <td class=\"iris-word-cell iris-subheading-cell\">\tinterval_operation</td>\n",
       "    <td class=\"iris-word-cell\" colspan=\"1\">&#x27;6 h&#x27;</td>\n",
       "</tr>\n",
       "<tr class=\"iris\">\n",
       "    <td class=\"iris-word-cell iris-subheading-cell\">\tinterval_write</td>\n",
       "    <td class=\"iris-word-cell\" colspan=\"1\">&#x27;6 h&#x27;</td>\n",
       "</tr>\n",
       "<tr class=\"iris\">\n",
       "    <td class=\"iris-word-cell iris-subheading-cell\">\tonline_operation</td>\n",
       "    <td class=\"iris-word-cell\" colspan=\"1\">&#x27;instant&#x27;</td>\n",
       "</tr>\n",
       "<tr class=\"iris\">\n",
       "    <td class=\"iris-word-cell iris-subheading-cell\">\ttitle</td>\n",
       "    <td class=\"iris-word-cell\" colspan=\"1\">&#x27;Created by xios&#x27;</td>\n",
       "</tr>\n",
       "</table>\n",
       "        "
      ],
      "text/plain": [
       "<iris 'Cube' of relative_humidity_at_screen_level / (1) (-- : 13824)>"
      ]
     },
     "execution_count": 2,
     "metadata": {},
     "output_type": "execute_result"
    }
   ],
   "source": [
    "# This will suppress RuntimeWarning warning flags\n",
    "import warnings\n",
    "warnings.filterwarnings(\"ignore\")\n",
    "\n",
    "from testdata_fetching import lfric_rh_singletime_2d\n",
    "lfric_rh = lfric_rh_singletime_2d()\n",
    "lfric_rh"
   ]
  },
  {
   "cell_type": "markdown",
   "id": "fe96bfb8-1dda-43ef-83bc-8e06c360e6bd",
   "metadata": {},
   "source": [
    "As in the plotting [Section 03](./Sec_03_Plotting.ipynb) we create a Polydata object from the cube using the routine `pv_from_lfric_cube` from the package [pv_conversions](pv_conversions.py): "
   ]
  },
  {
   "cell_type": "code",
   "execution_count": null,
   "id": "db0280ff-3ebd-42c9-a9eb-8f9c8117eeee",
   "metadata": {
    "lines_to_next_cell": 2,
    "tags": []
   },
   "outputs": [],
   "source": [
    "from pv_conversions import pv_from_lfric_cube\n",
    "pv_global_rh = pv_from_lfric_cube(lfric_rh)\n",
    "pv_global_rh"
   ]
  },
  {
   "cell_type": "markdown",
   "id": "d913e13d-6e3b-4608-a3e3-8e605fe2b797",
   "metadata": {},
   "source": [
    "Uncommenting `lfric_rh` and `pv_global_rh` in the cells above allows you to print the loaded and converted data. "
   ]
  },
  {
   "cell_type": "markdown",
   "id": "d9ee71c7-e3cc-4479-aea9-2972c0424bd5",
   "metadata": {},
   "source": [
    "## Enclose PolyData object in Bounding Box\n",
    "\n",
    "Next import the needed GeoVista class `BBox` (short name for \"Bounding Box\"):"
   ]
  },
  {
   "cell_type": "code",
   "execution_count": null,
   "id": "2e7b1bd1-f126-4900-a8bc-a56e4c98dca6",
   "metadata": {
    "tags": []
   },
   "outputs": [],
   "source": [
    "from geovista.geodesic import BBox"
   ]
  },
  {
   "cell_type": "markdown",
   "id": "01602100-f556-475a-a470-f7459a04371a",
   "metadata": {},
   "source": [
    "You can use the notebook \"?\" command to display the function signature of its constructor"
   ]
  },
  {
   "cell_type": "code",
   "execution_count": null,
   "id": "c914e991-5400-4912-9771-db367b9058f8",
   "metadata": {},
   "outputs": [
    {
     "name": "stdout",
     "output_type": "stream",
     "text": [
      "Object `BBox.__init__` not found.\n"
     ]
    }
   ],
   "source": [
    "?BBox.__init__"
   ]
  },
  {
   "cell_type": "markdown",
   "id": "96e6e603-94c0-48c8-85d2-0f397bca9010",
   "metadata": {},
   "source": [
    "Give the function `BBox` the arguments `lons` and `lats` which specify the points of a bounding rectangle:"
   ]
  },
  {
   "cell_type": "code",
   "execution_count": null,
   "id": "e1e70deb-6840-4a92-b40e-d5e9608bd07c",
   "metadata": {
    "tags": []
   },
   "outputs": [],
   "source": [
    "lon_min = -15\n",
    "lon_max = 55\n",
    "lat_min = -5\n",
    "lat_max = 35\n",
    "\n",
    "bbox = BBox(lons=[lon_min, lon_max, lon_max, lon_min], lats=[lat_min, lat_min, lat_max, lat_max])"
   ]
  },
  {
   "cell_type": "markdown",
   "id": "32c47cdb-477d-4f0c-87e1-2f7c960163b3",
   "metadata": {},
   "source": [
    "To apply the BBox to data we pass the PolyData object to the `enclosed` method of the Bounding Box: "
   ]
  },
  {
   "cell_type": "code",
   "execution_count": null,
   "id": "f7dfaa88-43d6-4f4e-8f40-ce4ff4a594d4",
   "metadata": {
    "tags": []
   },
   "outputs": [
    {
     "name": "stdout",
     "output_type": "stream",
     "text": [
      "953\n",
      "PolyData (0x7fb9c202ffa0)\n",
      "  N Cells:    953\n",
      "  N Points:   1019\n",
      "  N Strips:   0\n",
      "  X Bounds:   4.743e-01, 1.000e+00\n",
      "  Y Bounds:   -2.588e-01, 8.128e-01\n",
      "  Z Bounds:   -1.207e-01, 6.635e-01\n",
      "  N Arrays:   6\n"
     ]
    }
   ],
   "source": [
    "pv_regional_rh = bbox.enclosed(pv_global_rh)\n",
    "print(pv_regional_rh.n_cells)\n",
    "print(pv_regional_rh)"
   ]
  },
  {
   "cell_type": "markdown",
   "id": "75c46a22-6b43-433c-bf00-505214b46760",
   "metadata": {
    "tags": []
   },
   "source": [
    "Uncomment the last line to print the enclsoed PolyData object `pv_regional_rh`. Compared to the global PolyData object `pv_global_rh` it has a smaller number of cells."
   ]
  },
  {
   "cell_type": "code",
   "execution_count": null,
   "id": "af23f91c-e501-4dec-bdd6-17e8e4bf10b3",
   "metadata": {
    "tags": []
   },
   "outputs": [
    {
     "name": "stdout",
     "output_type": "stream",
     "text": [
      "PolyData (0x7fb9dbe46800)\n",
      "  N Cells:    13824\n",
      "  N Points:   13826\n",
      "  N Strips:   0\n",
      "  X Bounds:   -1.000e+00, 1.000e+00\n",
      "  Y Bounds:   -1.000e+00, 1.000e+00\n",
      "  Z Bounds:   -1.000e+00, 1.000e+00\n",
      "  N Arrays:   6\n",
      "13824\n"
     ]
    }
   ],
   "source": [
    "print(pv_global_rh)\n",
    "print(pv_global_rh.n_cells)"
   ]
  },
  {
   "cell_type": "markdown",
   "id": "0ad463e2-f480-44fd-b3f5-9e325e039c1a",
   "metadata": {},
   "source": [
    "### Plot extracted region\n",
    "\n",
    "We are now plotting the extracted region and are adding coastlines (see [Sec_02 Plotting - Additional features](./Sec_03_Plotting.ipynb#Additional-features)) for reference:"
   ]
  },
  {
   "cell_type": "code",
   "execution_count": null,
   "id": "5338d0e5-68fd-4c3e-a1dc-dfe8d7c0ce2c",
   "metadata": {
    "tags": []
   },
   "outputs": [
    {
     "data": {
      "application/vnd.jupyter.widget-view+json": {
       "model_id": "6c295f9c73254e609ea1f56fdc989df3",
       "version_major": 2,
       "version_minor": 0
      },
      "text/plain": [
       "Widget(value='<iframe src=\"http://localhost:38817/index.html?ui=P_0x7fb9c06ccec0_0&reconnect=auto\" class=\"pyvi…"
      ]
     },
     "metadata": {},
     "output_type": "display_data"
    }
   ],
   "source": [
    "lon_min = -15\n",
    "lon_max = 55\n",
    "lat_min = -5\n",
    "lat_max = 35\n",
    "\n",
    "bbox = BBox(lons=[lon_min, lon_max, lon_max, lon_min], \n",
    "            lats=[lat_min, lat_min, lat_max, lat_max])\n",
    "\n",
    "# The Bounding Box does not need to be a rectangle:\n",
    "# bbox = BBox(lons=[lon_min, lon_max, lon_max, lon_min    ], \n",
    "#            lats=[lat_min, lat_min, lat_max, lat_max-20 ])\n",
    "\n",
    "pv_regional_rh = bbox.enclosed(pv_global_rh) \n",
    "\n",
    "from geovista import GeoPlotter\n",
    "plotter = GeoPlotter()\n",
    "plotter.add_mesh(pv_regional_rh)\n",
    "plotter.add_coastlines()\n",
    "plotter.show()"
   ]
  },
  {
   "cell_type": "markdown",
   "id": "4b0df5d3-be4e-48a5-b0ea-4ca88da016cc",
   "metadata": {
    "tags": []
   },
   "source": [
    "Play with the longitude and latitude limits. Also, note that the Bounding Box does not need to be a rectangle as you could test above with `bbox = BBox(lons=[lon_min, lon_max, lon_max, lon_min],lats=[lat_min, lat_min, lat_max, lat_max-20])`.\n"
   ]
  },
  {
   "cell_type": "markdown",
   "id": "89030e96-2e30-40c7-bb97-ccf0af044d94",
   "metadata": {},
   "source": [
    "## Get an Iris cube for an extracted region.\n",
    "\n",
    "While GeoVista provides the efficient tools for mesh region extraction, it and Iris know nothing about one another. So, to calculate a regionally-extracted Iris cube, GeoVista can do the hard work of determining the subset of cells required, but you must then reconstruct an Iris cube from that information. For now, at least, there are no ready-made tools for this (in either Iris or Geovista). However, the operation is possible, and may be instructive. So, for those interested, there is an extra notebook [Bonus 03 MeshCube Extraction](./MeshCube_Extraction.ipynb), showing how this is done.\n"
   ]
  },
  {
   "cell_type": "markdown",
   "id": "30699778-28fe-45be-aae4-04967916c36c",
   "metadata": {},
   "source": [
    "## Next notebooks\n",
    "\n",
    "This is the end of the standard tutorial content. There is also some more detailed [bonus content](./Mesh_Tutorial_Intro.ipynb#bonus_and_additional_material) which you might be interested in."
   ]
  }
 ],
 "metadata": {
  "kernelspec": {
   "display_name": "everyday",
   "language": "python",
   "name": "python3"
  },
  "language_info": {
   "codemirror_mode": {
    "name": "ipython",
    "version": 3
   },
   "file_extension": ".py",
   "mimetype": "text/x-python",
   "name": "python",
   "nbconvert_exporter": "python",
   "pygments_lexer": "ipython3",
   "version": "3.13.2"
  }
 },
 "nbformat": 4,
 "nbformat_minor": 5
}
